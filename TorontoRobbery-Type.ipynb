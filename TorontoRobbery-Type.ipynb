{
 "cells": [
  {
   "cell_type": "markdown",
   "metadata": {},
   "source": [
    "Before you turn this problem in, make sure everything runs as expected. First, **restart the kernel** (in the menu bar, select Kernel$\\rightarrow$Restart) and then **run all cells** (in the menu bar, select Cell$\\rightarrow$Run All).\n",
    "\n",
    "Make sure that in addition to the code, you provide written answers for all questions of the assignment. "
   ]
  },
  {
   "cell_type": "markdown",
   "metadata": {},
   "source": [
    "## Term Project: TorontoRobbery - Data Analysis \n"
   ]
  },
  {
   "cell_type": "markdown",
   "metadata": {},
   "source": [
    "For this term project, we will analyze the open dataset of toronto robbery provided by Toronto City(http://data.torontopolice.on.ca/datasets/281a5ad35c60458cb7de41c5ae99d5b5_0.) . \n",
    "\n",
    "We are going to read the data from the file into pandas DataFrame. Analyze, clean and transform the data to answer the following question:"
   ]
  },
  {
   "cell_type": "markdown",
   "metadata": {},
   "source": [
    "### Questions:"
   ]
  },
  {
   "cell_type": "markdown",
   "metadata": {},
   "source": [
    "**TYPE:**\n",
    "\n",
    "1. What type of robbery is most common? Least common?\n",
    "2. Does this change from 2014 to 2017?\n",
    "            -year by year comparison\n",
    "            -2018 - 2014 comparison\n",
    "            \n",
    "**TIME:**\n",
    "\n",
    "1. At what time is a robbery most likely to occur? Least likely?\n",
    "            -Time/Hour of the day\n",
    "            -Morning/Afternoon/Evening ← a new categorical variable\n",
    "            -Day of week\n",
    "            -Month of year\n",
    "            -Season ← a new categorical variable\n",
    "2. Does this change from 2014 to 2017?\n",
    "            -year by year comparison\n",
    "            -2017 - 2014 comparison\n",
    "\n",
    "**LOCATION:**\n",
    "\n",
    "1. In what areas do most robberies occur? Least robberies?\n",
    "            -Neighbourhood\n",
    "            -Location (commercial vs. outside)\n",
    "            -Robbery relative to Income\n",
    "            -Robbery relation to Education level\n",
    "2. % of neighbourhood residents whose mother tongue is not English or French\n",
    "\n",
    "3. % of neighbourhood residents who are unemployed\n",
    "\n",
    "4. % of neighbourhood residents who are movers\n",
    "\n",
    "**RESPONSE:**\n",
    "1. Which police divisions respond to the most robberies?\n",
    "2. How long do people wait to report a robbery (e.g. reported date vs. occuring date)?\n",
    "3. Which robbery types are reported the most quickly? Least quickly?\n",
    "\n",
    "\n",
    "**PREDICTION:** \n",
    "\n",
    " - Based on a given time and location, how likely are you to be robbed?\n",
    "     - Note: must define time (e.g. hour vs. day) and location"
   ]
  },
  {
   "cell_type": "code",
   "execution_count": null,
   "metadata": {},
   "outputs": [],
   "source": [
    "import pandas as pd\n",
    "import numpy as np\n",
    "from matplotlib import pyplot as plt\n",
    "import seaborn as sns\n",
    "import datetime as dt\n",
    "sns.set()"
   ]
  },
  {
   "cell_type": "code",
   "execution_count": null,
   "metadata": {},
   "outputs": [],
   "source": [
    "# Load CSV file into Panda's DataFrame \n",
    "\n",
    "robbery_data = pd.read_csv('Data/robbery_data.csv',\n",
    "                          index_col = \"Record_ID\")\n",
    "\n",
    "neighbourhood_data = pd.read_csv('Data/neighbourhood.csv',\n",
    "                          index_col = \"Neighbourhood_ID\")\n",
    "\n",
    "offence_data = pd.read_csv('Data/offences.csv',\n",
    "                          index_col = \"Offence_ID\")\n",
    "\n",
    "neighbourhood_data = pd.read_csv('Data/neighbourhood.csv',\n",
    "                          index_col = \"Neighbourhood_ID\")\n",
    "\n",
    "premises_data =  pd.read_csv('Data/premise_types.csv',\n",
    "                          index_col = \"Premise_Type_ID\")\n",
    "\n",
    "daytime_data = pd.read_csv('Data/time_of_day.csv',\n",
    "                          index_col = \"Time_Of_Day_ID\")\n"
   ]
  },
  {
   "cell_type": "code",
   "execution_count": null,
   "metadata": {},
   "outputs": [],
   "source": [
    "## Start your work from here... "
   ]
  },
  {
   "cell_type": "markdown",
   "metadata": {},
   "source": [
    "# 1. What type of robbery is most common? Least common?\n",
    "     -year by year comparison\n",
    "     -2018 - 2014 comparison"
   ]
  },
  {
   "cell_type": "code",
   "execution_count": 238,
   "metadata": {},
   "outputs": [
    {
     "data": {
      "text/html": [
       "<div>\n",
       "<style scoped>\n",
       "    .dataframe tbody tr th:only-of-type {\n",
       "        vertical-align: middle;\n",
       "    }\n",
       "\n",
       "    .dataframe tbody tr th {\n",
       "        vertical-align: top;\n",
       "    }\n",
       "\n",
       "    .dataframe thead th {\n",
       "        text-align: right;\n",
       "    }\n",
       "</style>\n",
       "<table border=\"1\" class=\"dataframe\">\n",
       "  <thead>\n",
       "    <tr style=\"text-align: right;\">\n",
       "      <th></th>\n",
       "      <th>Offence</th>\n",
       "    </tr>\n",
       "    <tr>\n",
       "      <th>Offence_ID</th>\n",
       "      <th></th>\n",
       "    </tr>\n",
       "  </thead>\n",
       "  <tbody>\n",
       "    <tr>\n",
       "      <th>190</th>\n",
       "      <td>Robbery - Atm</td>\n",
       "    </tr>\n",
       "    <tr>\n",
       "      <th>210</th>\n",
       "      <td>Robbery - Business</td>\n",
       "    </tr>\n",
       "    <tr>\n",
       "      <th>170</th>\n",
       "      <td>Robbery - Delivery Person</td>\n",
       "    </tr>\n",
       "    <tr>\n",
       "      <th>100</th>\n",
       "      <td>Robbery With Weapon</td>\n",
       "    </tr>\n",
       "    <tr>\n",
       "      <th>200</th>\n",
       "      <td>Robbery - Mugging</td>\n",
       "    </tr>\n",
       "    <tr>\n",
       "      <th>120</th>\n",
       "      <td>Robbery - Armoured Car</td>\n",
       "    </tr>\n",
       "    <tr>\n",
       "      <th>140</th>\n",
       "      <td>Robbery - Vehicle Jacking</td>\n",
       "    </tr>\n",
       "    <tr>\n",
       "      <th>150</th>\n",
       "      <td>Robbery - Purse Snatch</td>\n",
       "    </tr>\n",
       "    <tr>\n",
       "      <th>220</th>\n",
       "      <td>Robbery - Other</td>\n",
       "    </tr>\n",
       "    <tr>\n",
       "      <th>130</th>\n",
       "      <td>Robbery - Home Invasion</td>\n",
       "    </tr>\n",
       "    <tr>\n",
       "      <th>160</th>\n",
       "      <td>Robbery - Taxi</td>\n",
       "    </tr>\n",
       "    <tr>\n",
       "      <th>180</th>\n",
       "      <td>Robbery - Swarming</td>\n",
       "    </tr>\n",
       "    <tr>\n",
       "      <th>110</th>\n",
       "      <td>Robbery - Financial Institute</td>\n",
       "    </tr>\n",
       "  </tbody>\n",
       "</table>\n",
       "</div>"
      ],
      "text/plain": [
       "                                  Offence\n",
       "Offence_ID                               \n",
       "190                         Robbery - Atm\n",
       "210                    Robbery - Business\n",
       "170             Robbery - Delivery Person\n",
       "100                   Robbery With Weapon\n",
       "200                     Robbery - Mugging\n",
       "120                Robbery - Armoured Car\n",
       "140             Robbery - Vehicle Jacking\n",
       "150                Robbery - Purse Snatch\n",
       "220                       Robbery - Other\n",
       "130               Robbery - Home Invasion\n",
       "160                        Robbery - Taxi\n",
       "180                    Robbery - Swarming\n",
       "110         Robbery - Financial Institute"
      ]
     },
     "execution_count": 238,
     "metadata": {},
     "output_type": "execute_result"
    }
   ],
   "source": [
    "offence_data"
   ]
  },
  {
   "cell_type": "code",
   "execution_count": null,
   "metadata": {},
   "outputs": [],
   "source": [
    "#The most common robbery overall (2014 - 2018)\n",
    "robbery_data['Offence_ID'].value_counts()"
   ]
  },
  {
   "cell_type": "markdown",
   "metadata": {},
   "source": [
    "# 2. Did this change from 2014 to 2018?"
   ]
  },
  {
   "cell_type": "code",
   "execution_count": null,
   "metadata": {},
   "outputs": [],
   "source": [
    "robbery_data['Occurence_Date'] = pd.to_datetime(robbery_data['Occurence_Date'])"
   ]
  },
  {
   "cell_type": "code",
   "execution_count": null,
   "metadata": {},
   "outputs": [],
   "source": [
    "robbery_data.dtypes\n",
    "robbery_data['Occurance_Year'] = robbery_data['Occurence_Date'].dt.year"
   ]
  },
  {
   "cell_type": "code",
   "execution_count": null,
   "metadata": {},
   "outputs": [],
   "source": [
    "year_totals = robbery_data['Occurance_Year'].value_counts()\n",
    "year_totals"
   ]
  },
  {
   "cell_type": "code",
   "execution_count": null,
   "metadata": {},
   "outputs": [],
   "source": [
    "offence_per_year = robbery_data.groupby(by='Occurance_Year')['Offence_ID'].value_counts()\n",
    "offence_per_year"
   ]
  },
  {
   "cell_type": "code",
   "execution_count": null,
   "metadata": {},
   "outputs": [],
   "source": [
    "#Mugging\n",
    "offence_200 = robbery_data.loc[robbery_data['Offence_ID'] == 200]\n",
    "offence_200_year = offence_200.groupby(by='Occurance_Year')['Offence_ID'].value_counts()\n",
    "offence_200_year"
   ]
  },
  {
   "cell_type": "code",
   "execution_count": null,
   "metadata": {},
   "outputs": [],
   "source": [
    "#Other\n",
    "offence_220 = robbery_data.loc[robbery_data['Offence_ID'] == 220]\n",
    "offence_220_year = offence_220.groupby(by='Occurance_Year')['Offence_ID'].value_counts()\n",
    "offence_220_year"
   ]
  },
  {
   "cell_type": "code",
   "execution_count": null,
   "metadata": {},
   "outputs": [],
   "source": [
    "#Weapon\n",
    "offence_100 = robbery_data.loc[robbery_data['Offence_ID'] == 100]\n",
    "offence_100_year = offence_100.groupby(by='Occurance_Year')['Offence_ID'].value_counts()\n",
    "offence_100_year"
   ]
  },
  {
   "cell_type": "code",
   "execution_count": null,
   "metadata": {},
   "outputs": [],
   "source": [
    "#Swarming\n",
    "offence_180 = robbery_data.loc[robbery_data['Offence_ID'] == 180]\n",
    "offence_180_year = offence_180.groupby(by='Occurance_Year')['Offence_ID'].value_counts()\n",
    "offence_180_year"
   ]
  },
  {
   "cell_type": "code",
   "execution_count": null,
   "metadata": {},
   "outputs": [],
   "source": [
    "#Business\n",
    "offence_210 = robbery_data.loc[robbery_data['Offence_ID'] == 210]\n",
    "offence_210_year = offence_210.groupby(by='Occurance_Year')['Offence_ID'].value_counts()\n",
    "offence_210_year"
   ]
  }
 ],
 "metadata": {
  "kernelspec": {
   "display_name": "Python 3",
   "language": "python",
   "name": "python3"
  },
  "language_info": {
   "codemirror_mode": {
    "name": "ipython",
    "version": 3
   },
   "file_extension": ".py",
   "mimetype": "text/x-python",
   "name": "python",
   "nbconvert_exporter": "python",
   "pygments_lexer": "ipython3",
   "version": "3.7.1"
  }
 },
 "nbformat": 4,
 "nbformat_minor": 2
}
