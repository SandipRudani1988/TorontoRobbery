{
 "cells": [
  {
   "cell_type": "markdown",
   "metadata": {},
   "source": [
    "Before you turn this problem in, make sure everything runs as expected. First, **restart the kernel** (in the menu bar, select Kernel$\\rightarrow$Restart) and then **run all cells** (in the menu bar, select Cell$\\rightarrow$Run All).\n",
    "\n",
    "Make sure that in addition to the code, you provide written answers for all questions of the assignment. "
   ]
  },
  {
   "cell_type": "markdown",
   "metadata": {},
   "source": [
    "## Term Project: TorontoRobbery - Data Analysis \n"
   ]
  },
  {
   "cell_type": "markdown",
   "metadata": {},
   "source": [
    "For this term project, we will analyze the open dataset of toronto robbery provided by Toronto City(http://data.torontopolice.on.ca/datasets/281a5ad35c60458cb7de41c5ae99d5b5_0.) . \n",
    "\n",
    "We are going to read the data from the file into pandas DataFrame. Analyze, clean and transform the data to answer the following question:"
   ]
  },
  {
   "cell_type": "markdown",
   "metadata": {},
   "source": [
    "### Questions:"
   ]
  },
  {
   "cell_type": "markdown",
   "metadata": {},
   "source": [
    "**TYPE:**\n",
    "\n",
    "1. What type of robbery is most common? Least common?\n",
    "2. Does this change from 2014 to 2017?\n",
    "            -year by year comparison\n",
    "            -2018 - 2014 comparison\n",
    "            \n",
    "**TIME:**\n",
    "\n",
    "1. At what time is a robbery most likely to occur? Least likely?\n",
    "            -Time/Hour of the day\n",
    "            -Morning/Afternoon/Evening ← a new categorical variable\n",
    "            -Day of week\n",
    "            -Month of year\n",
    "            -Season ← a new categorical variable\n",
    "2. Does this change from 2014 to 2017?\n",
    "            -year by year comparison\n",
    "            -2017 - 2014 comparison\n",
    "\n",
    "**LOCATION:**\n",
    "\n",
    "1. In what areas do most robberies occur? Least robberies?\n",
    "            -Neighbourhood\n",
    "            -Location (commercial vs. outside)\n",
    "            -Robbery relative to Income\n",
    "            -Robbery relation to Education level\n",
    "2. % of neighbourhood residents whose mother tongue is not English or French\n",
    "\n",
    "3. % of neighbourhood residents who are unemployed\n",
    "\n",
    "4. % of neighbourhood residents who are movers\n",
    "\n",
    "**RESPONSE:**\n",
    "1. Which police divisions respond to the most robberies?\n",
    "2. How long do people wait to report a robbery (e.g. reported date vs. occuring date)?\n",
    "3. Which robbery types are reported the most quickly? Least quickly?\n",
    "\n",
    "\n",
    "**PREDICTION:** \n",
    "\n",
    " - Based on a given time and location, how likely are you to be robbed?\n",
    "     - Note: must define time (e.g. hour vs. day) and location"
   ]
  },
  {
   "cell_type": "code",
   "execution_count": 1,
   "metadata": {},
   "outputs": [],
   "source": [
    "import pandas as pd\n",
    "import numpy as np\n",
    "from matplotlib import pyplot as plt\n",
    "import seaborn as sns\n",
    "sns.set()"
   ]
  },
  {
   "cell_type": "code",
   "execution_count": 3,
   "metadata": {},
   "outputs": [],
   "source": [
    "# Load CSV file into Panda's DataFrame \n",
    "\n",
    "robbery_data = pd.read_csv('Data/robbery_data.csv',\n",
    "                          index_col = \"Record_ID\")\n",
    "\n",
    "neighbourhood_data = pd.read_csv('Data/neighbourhood.csv',\n",
    "                          index_col = \"Neighbourhood_ID\")\n",
    "\n",
    "offence_data = pd.read_csv('Data/offences.csv',\n",
    "                          index_col = \"Offence_ID\")\n",
    "\n",
    "neighbourhood_data = pd.read_csv('Data/neighbourhood.csv',\n",
    "                          index_col = \"Neighbourhood_ID\")\n",
    "\n",
    "premises_data =  pd.read_csv('Data/premise_types.csv',\n",
    "                          index_col = \"Premise_Type_ID\")\n",
    "\n",
    "daytime_data = pd.read_csv('Data/time_of_day.csv',\n",
    "                          index_col = \"Time_Of_Day_ID\")\n"
   ]
  },
  {
   "cell_type": "raw",
   "metadata": {},
   "source": [
    "## Start your work from here... "
   ]
  },
  {
   "cell_type": "code",
   "execution_count": 34,
   "metadata": {},
   "outputs": [],
   "source": [
    "##0. What is the overall trend in total number of robberies over time (2014-2018?\n",
    "robbery_data['Occurence_Date'] = pd.to_datetime(robbery_data['Occurence_Date'])\n",
    "robbery_data.dtypes\n",
    "robbery_data['Occurance_Year'] = robbery_data['Occurence_Date'].dt.year"
   ]
  },
  {
   "cell_type": "code",
   "execution_count": 29,
   "metadata": {},
   "outputs": [
    {
     "data": {
      "text/plain": [
       "2014    3585\n",
       "2015    3464\n",
       "2016    3613\n",
       "2017    3901\n",
       "2018    3522\n",
       "Name: Occurance_Year, dtype: int64"
      ]
     },
     "execution_count": 29,
     "metadata": {},
     "output_type": "execute_result"
    }
   ],
   "source": [
    "robbery_data_1418 = robbery_data[robbery_data.Occurance_Year > 2013]\n",
    "year_totals = robbery_data_1418['Occurance_Year'].value_counts().sort_index()\n",
    "year_totals"
   ]
  },
  {
   "cell_type": "code",
   "execution_count": null,
   "metadata": {},
   "outputs": [],
   "source": [
    "#1. What type of robbery is the most common overall? Least common overall?  "
   ]
  },
  {
   "cell_type": "code",
   "execution_count": 39,
   "metadata": {},
   "outputs": [
    {
     "data": {
      "text/html": [
       "<div>\n",
       "<style scoped>\n",
       "    .dataframe tbody tr th:only-of-type {\n",
       "        vertical-align: middle;\n",
       "    }\n",
       "\n",
       "    .dataframe tbody tr th {\n",
       "        vertical-align: top;\n",
       "    }\n",
       "\n",
       "    .dataframe thead th {\n",
       "        text-align: right;\n",
       "    }\n",
       "</style>\n",
       "<table border=\"1\" class=\"dataframe\">\n",
       "  <thead>\n",
       "    <tr style=\"text-align: right;\">\n",
       "      <th></th>\n",
       "      <th>Offence</th>\n",
       "    </tr>\n",
       "    <tr>\n",
       "      <th>Offence_ID</th>\n",
       "      <th></th>\n",
       "    </tr>\n",
       "  </thead>\n",
       "  <tbody>\n",
       "    <tr>\n",
       "      <th>190</th>\n",
       "      <td>Robbery - Atm</td>\n",
       "    </tr>\n",
       "    <tr>\n",
       "      <th>210</th>\n",
       "      <td>Robbery - Business</td>\n",
       "    </tr>\n",
       "    <tr>\n",
       "      <th>170</th>\n",
       "      <td>Robbery - Delivery Person</td>\n",
       "    </tr>\n",
       "    <tr>\n",
       "      <th>100</th>\n",
       "      <td>Robbery With Weapon</td>\n",
       "    </tr>\n",
       "    <tr>\n",
       "      <th>200</th>\n",
       "      <td>Robbery - Mugging</td>\n",
       "    </tr>\n",
       "    <tr>\n",
       "      <th>120</th>\n",
       "      <td>Robbery - Armoured Car</td>\n",
       "    </tr>\n",
       "    <tr>\n",
       "      <th>140</th>\n",
       "      <td>Robbery - Vehicle Jacking</td>\n",
       "    </tr>\n",
       "    <tr>\n",
       "      <th>150</th>\n",
       "      <td>Robbery - Purse Snatch</td>\n",
       "    </tr>\n",
       "    <tr>\n",
       "      <th>220</th>\n",
       "      <td>Robbery - Other</td>\n",
       "    </tr>\n",
       "    <tr>\n",
       "      <th>130</th>\n",
       "      <td>Robbery - Home Invasion</td>\n",
       "    </tr>\n",
       "    <tr>\n",
       "      <th>160</th>\n",
       "      <td>Robbery - Taxi</td>\n",
       "    </tr>\n",
       "    <tr>\n",
       "      <th>180</th>\n",
       "      <td>Robbery - Swarming</td>\n",
       "    </tr>\n",
       "    <tr>\n",
       "      <th>110</th>\n",
       "      <td>Robbery - Financial Institute</td>\n",
       "    </tr>\n",
       "  </tbody>\n",
       "</table>\n",
       "</div>"
      ],
      "text/plain": [
       "                                  Offence\n",
       "Offence_ID                               \n",
       "190                         Robbery - Atm\n",
       "210                    Robbery - Business\n",
       "170             Robbery - Delivery Person\n",
       "100                   Robbery With Weapon\n",
       "200                     Robbery - Mugging\n",
       "120                Robbery - Armoured Car\n",
       "140             Robbery - Vehicle Jacking\n",
       "150                Robbery - Purse Snatch\n",
       "220                       Robbery - Other\n",
       "130               Robbery - Home Invasion\n",
       "160                        Robbery - Taxi\n",
       "180                    Robbery - Swarming\n",
       "110         Robbery - Financial Institute"
      ]
     },
     "execution_count": 39,
     "metadata": {},
     "output_type": "execute_result"
    }
   ],
   "source": [
    "offence_data"
   ]
  },
  {
   "cell_type": "code",
   "execution_count": 35,
   "metadata": {},
   "outputs": [
    {
     "data": {
      "text/plain": [
       "200    5876\n",
       "220    2926\n",
       "100    2904\n",
       "210    1983\n",
       "180    1688\n",
       "150     735\n",
       "130     726\n",
       "110     565\n",
       "140     235\n",
       "160     203\n",
       "170     155\n",
       "190      65\n",
       "120      24\n",
       "Name: Offence_ID, dtype: int64"
      ]
     },
     "execution_count": 35,
     "metadata": {},
     "output_type": "execute_result"
    }
   ],
   "source": [
    "robbery_data_1418['Offence_ID'].value_counts()"
   ]
  },
  {
   "cell_type": "code",
   "execution_count": null,
   "metadata": {},
   "outputs": [],
   "source": [
    "#2. Did the most and least common type of robbery change over time?"
   ]
  },
  {
   "cell_type": "code",
   "execution_count": 37,
   "metadata": {},
   "outputs": [
    {
     "data": {
      "text/plain": [
       "Occurance_Year  Offence_ID\n",
       "2014            200           1269\n",
       "2015            200           1214\n",
       "2016            200           1177\n",
       "2017            200           1208\n",
       "2018            200           1008\n",
       "Name: Offence_ID, dtype: int64"
      ]
     },
     "execution_count": 37,
     "metadata": {},
     "output_type": "execute_result"
    }
   ],
   "source": [
    "#1 - Offence_ID = 200 = Mugging\n",
    "offence_200 = robbery_data_1418.loc[robbery_data['Offence_ID'] == 200]\n",
    "offence_200_year = offence_200.groupby(by='Occurance_Year')['Offence_ID'].value_counts()\n",
    "offence_200_year"
   ]
  },
  {
   "cell_type": "code",
   "execution_count": 38,
   "metadata": {},
   "outputs": [
    {
     "data": {
      "text/plain": [
       "Occurance_Year  Offence_ID\n",
       "2014            220           603\n",
       "2015            220           546\n",
       "2016            220           562\n",
       "2017            220           659\n",
       "2018            220           556\n",
       "Name: Offence_ID, dtype: int64"
      ]
     },
     "execution_count": 38,
     "metadata": {},
     "output_type": "execute_result"
    }
   ],
   "source": [
    "#3 - Offence_ID = 220 = Other\n",
    "offence_220 = robbery_data_1418.loc[robbery_data['Offence_ID'] == 220]\n",
    "offence_220_year = offence_220.groupby(by='Occurance_Year')['Offence_ID'].value_counts()\n",
    "offence_220_year"
   ]
  },
  {
   "cell_type": "code",
   "execution_count": 40,
   "metadata": {},
   "outputs": [
    {
     "data": {
      "text/plain": [
       "Occurance_Year  Offence_ID\n",
       "2014            100           534\n",
       "2015            100           551\n",
       "2016            100           595\n",
       "2017            100           625\n",
       "2018            100           599\n",
       "Name: Offence_ID, dtype: int64"
      ]
     },
     "execution_count": 40,
     "metadata": {},
     "output_type": "execute_result"
    }
   ],
   "source": [
    "#3 - Offence_ID = 100 = Robbery with weapon\n",
    "offence_100 = robbery_data_1418.loc[robbery_data['Offence_ID'] == 100]\n",
    "offence_100_year = offence_100.groupby(by='Occurance_Year')['Offence_ID'].value_counts()\n",
    "offence_100_year"
   ]
  },
  {
   "cell_type": "code",
   "execution_count": 42,
   "metadata": {},
   "outputs": [
    {
     "data": {
      "text/plain": [
       "Occurance_Year  Offence_ID\n",
       "2014            210           274\n",
       "2015            210           337\n",
       "2016            210           405\n",
       "2017            210           460\n",
       "2018            210           507\n",
       "Name: Offence_ID, dtype: int64"
      ]
     },
     "execution_count": 42,
     "metadata": {},
     "output_type": "execute_result"
    }
   ],
   "source": [
    "#4 - Offence_ID = 210 = Business\n",
    "offence_210 = robbery_data_1418.loc[robbery_data['Offence_ID'] == 210]\n",
    "offence_210_year = offence_210.groupby(by='Occurance_Year')['Offence_ID'].value_counts()\n",
    "offence_210_year"
   ]
  },
  {
   "cell_type": "code",
   "execution_count": 41,
   "metadata": {},
   "outputs": [
    {
     "data": {
      "text/plain": [
       "Occurance_Year  Offence_ID\n",
       "2014            180           376\n",
       "2015            180           339\n",
       "2016            180           307\n",
       "2017            180           381\n",
       "2018            180           285\n",
       "Name: Offence_ID, dtype: int64"
      ]
     },
     "execution_count": 41,
     "metadata": {},
     "output_type": "execute_result"
    }
   ],
   "source": [
    "#5 - Offence_ID = 180 = Swarming\n",
    "offence_180 = robbery_data_1418.loc[robbery_data['Offence_ID'] == 180]\n",
    "offence_180_year = offence_180.groupby(by='Occurance_Year')['Offence_ID'].value_counts()\n",
    "offence_180_year"
   ]
  },
  {
   "cell_type": "code",
   "execution_count": 44,
   "metadata": {},
   "outputs": [
    {
     "data": {
      "text/plain": [
       "Occurance_Year  Offence_ID\n",
       "2014            150           176\n",
       "2015            150           140\n",
       "2016            150           146\n",
       "2017            150           139\n",
       "2018            150           134\n",
       "Name: Offence_ID, dtype: int64"
      ]
     },
     "execution_count": 44,
     "metadata": {},
     "output_type": "execute_result"
    }
   ],
   "source": [
    "#6 Offence_ID = 150 = Purse snatch\n",
    "offence_150 = robbery_data_1418.loc[robbery_data['Offence_ID'] == 150]\n",
    "offence_150_year = offence_150.groupby(by='Occurance_Year')['Offence_ID'].value_counts()\n",
    "offence_150_year"
   ]
  },
  {
   "cell_type": "code",
   "execution_count": 45,
   "metadata": {},
   "outputs": [
    {
     "data": {
      "text/plain": [
       "Occurance_Year  Offence_ID\n",
       "2014            130           134\n",
       "2015            130           142\n",
       "2016            130           181\n",
       "2017            130           139\n",
       "2018            130           130\n",
       "Name: Offence_ID, dtype: int64"
      ]
     },
     "execution_count": 45,
     "metadata": {},
     "output_type": "execute_result"
    }
   ],
   "source": [
    "#7 Offence_ID = 130 = Home invasion\n",
    "offence_130 = robbery_data_1418.loc[robbery_data['Offence_ID'] == 130]\n",
    "offence_130_year = offence_130.groupby(by='Occurance_Year')['Offence_ID'].value_counts()\n",
    "offence_130_year"
   ]
  },
  {
   "cell_type": "code",
   "execution_count": 46,
   "metadata": {},
   "outputs": [
    {
     "data": {
      "text/plain": [
       "Occurance_Year  Offence_ID\n",
       "2014            110           114\n",
       "2015            110            99\n",
       "2016            110           100\n",
       "2017            110           127\n",
       "2018            110           125\n",
       "Name: Offence_ID, dtype: int64"
      ]
     },
     "execution_count": 46,
     "metadata": {},
     "output_type": "execute_result"
    }
   ],
   "source": [
    "#8 Offence_ID = 110 = Financial instiution\n",
    "offence_110 = robbery_data_1418.loc[robbery_data['Offence_ID'] == 110]\n",
    "offence_110_year = offence_110.groupby(by='Occurance_Year')['Offence_ID'].value_counts()\n",
    "offence_110_year"
   ]
  },
  {
   "cell_type": "code",
   "execution_count": 47,
   "metadata": {},
   "outputs": [
    {
     "data": {
      "text/plain": [
       "Occurance_Year  Offence_ID\n",
       "2014            140           19\n",
       "2015            140           25\n",
       "2016            140           59\n",
       "2017            140           63\n",
       "2018            140           69\n",
       "Name: Offence_ID, dtype: int64"
      ]
     },
     "execution_count": 47,
     "metadata": {},
     "output_type": "execute_result"
    }
   ],
   "source": [
    "#9 - Offence_ID = 140 = Vehicle jacking\n",
    "offence_140 = robbery_data_1418.loc[robbery_data['Offence_ID'] == 140]\n",
    "offence_140_year = offence_140.groupby(by='Occurance_Year')['Offence_ID'].value_counts()\n",
    "offence_140_year"
   ]
  },
  {
   "cell_type": "code",
   "execution_count": 48,
   "metadata": {},
   "outputs": [
    {
     "data": {
      "text/plain": [
       "Occurance_Year  Offence_ID\n",
       "2014            160           42\n",
       "2015            160           31\n",
       "2016            160           38\n",
       "2017            160           48\n",
       "2018            160           44\n",
       "Name: Offence_ID, dtype: int64"
      ]
     },
     "execution_count": 48,
     "metadata": {},
     "output_type": "execute_result"
    }
   ],
   "source": [
    "#10 - Offence_ID = 160 = Taxi\n",
    "offence_160 = robbery_data_1418.loc[robbery_data['Offence_ID'] == 160]\n",
    "offence_160_year = offence_160.groupby(by='Occurance_Year')['Offence_ID'].value_counts()\n",
    "offence_160_year"
   ]
  },
  {
   "cell_type": "code",
   "execution_count": 49,
   "metadata": {},
   "outputs": [
    {
     "data": {
      "text/plain": [
       "Occurance_Year  Offence_ID\n",
       "2014            170           22\n",
       "2015            170           24\n",
       "2016            170           29\n",
       "2017            170           37\n",
       "2018            170           43\n",
       "Name: Offence_ID, dtype: int64"
      ]
     },
     "execution_count": 49,
     "metadata": {},
     "output_type": "execute_result"
    }
   ],
   "source": [
    "#11 - Offence_ID = 170 = Delivery person\n",
    "offence_170 = robbery_data_1418.loc[robbery_data['Offence_ID'] == 170]\n",
    "offence_170_year = offence_170.groupby(by='Occurance_Year')['Offence_ID'].value_counts()\n",
    "offence_170_year"
   ]
  },
  {
   "cell_type": "code",
   "execution_count": 50,
   "metadata": {},
   "outputs": [
    {
     "data": {
      "text/plain": [
       "Occurance_Year  Offence_ID\n",
       "2014            190           13\n",
       "2015            190           11\n",
       "2016            190            9\n",
       "2017            190           14\n",
       "2018            190           18\n",
       "Name: Offence_ID, dtype: int64"
      ]
     },
     "execution_count": 50,
     "metadata": {},
     "output_type": "execute_result"
    }
   ],
   "source": [
    "#12 - Offence_ID = 190 = ATM\n",
    "offence_190 = robbery_data_1418.loc[robbery_data['Offence_ID'] == 190]\n",
    "offence_190_year = offence_190.groupby(by='Occurance_Year')['Offence_ID'].value_counts()\n",
    "offence_190_year"
   ]
  },
  {
   "cell_type": "code",
   "execution_count": 51,
   "metadata": {},
   "outputs": [
    {
     "data": {
      "text/plain": [
       "Occurance_Year  Offence_ID\n",
       "2014            120           9\n",
       "2015            120           5\n",
       "2016            120           5\n",
       "2017            120           1\n",
       "2018            120           4\n",
       "Name: Offence_ID, dtype: int64"
      ]
     },
     "execution_count": 51,
     "metadata": {},
     "output_type": "execute_result"
    }
   ],
   "source": [
    "#13 - Offence_ID = 120 = Armoured Car\n",
    "offence_120 = robbery_data_1418.loc[robbery_data['Offence_ID'] == 120]\n",
    "offence_120_year = offence_120.groupby(by='Occurance_Year')['Offence_ID'].value_counts()\n",
    "offence_120_year"
   ]
  },
  {
   "cell_type": "code",
   "execution_count": null,
   "metadata": {},
   "outputs": [],
   "source": []
  }
 ],
 "metadata": {
  "kernelspec": {
   "display_name": "Python 3",
   "language": "python",
   "name": "python3"
  },
  "language_info": {
   "codemirror_mode": {
    "name": "ipython",
    "version": 3
   },
   "file_extension": ".py",
   "mimetype": "text/x-python",
   "name": "python",
   "nbconvert_exporter": "python",
   "pygments_lexer": "ipython3",
   "version": "3.7.1"
  }
 },
 "nbformat": 4,
 "nbformat_minor": 2
}
