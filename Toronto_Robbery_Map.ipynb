{
 "cells": [
  {
   "cell_type": "code",
   "execution_count": 1,
   "metadata": {},
   "outputs": [
    {
     "ename": "ModuleNotFoundError",
     "evalue": "No module named 'folium'",
     "output_type": "error",
     "traceback": [
      "\u001b[0;31m---------------------------------------------------------------------------\u001b[0m",
      "\u001b[0;31mModuleNotFoundError\u001b[0m                       Traceback (most recent call last)",
      "\u001b[0;32m<ipython-input-1-1fbe7170c32e>\u001b[0m in \u001b[0;36m<module>\u001b[0;34m\u001b[0m\n\u001b[1;32m      5\u001b[0m \u001b[0;31m# import folium package\u001b[0m\u001b[0;34m\u001b[0m\u001b[0;34m\u001b[0m\u001b[0;34m\u001b[0m\u001b[0m\n\u001b[1;32m      6\u001b[0m \u001b[0;31m# ---------------------------------\u001b[0m\u001b[0;34m\u001b[0m\u001b[0;34m\u001b[0m\u001b[0;34m\u001b[0m\u001b[0m\n\u001b[0;32m----> 7\u001b[0;31m \u001b[0;32mimport\u001b[0m \u001b[0mfolium\u001b[0m\u001b[0;34m\u001b[0m\u001b[0;34m\u001b[0m\u001b[0m\n\u001b[0m\u001b[1;32m      8\u001b[0m \u001b[0;31m# import Plotting functions PLOTLY\u001b[0m\u001b[0;34m\u001b[0m\u001b[0;34m\u001b[0m\u001b[0;34m\u001b[0m\u001b[0m\n\u001b[1;32m      9\u001b[0m \u001b[0;31m# ----------------------------------\u001b[0m\u001b[0;34m\u001b[0m\u001b[0;34m\u001b[0m\u001b[0;34m\u001b[0m\u001b[0m\n",
      "\u001b[0;31mModuleNotFoundError\u001b[0m: No module named 'folium'"
     ]
    }
   ],
   "source": [
    "import numpy as np # linear algebra\n",
    "import pandas as pd # data processing, CSV file I/O (e.g. pd.read_csv)\n",
    "import matplotlib.pyplot as plt\n",
    "import seaborn as sns\n",
    "# import folium package \n",
    "# ---------------------------------\n",
    "import folium \n",
    "# import Plotting functions PLOTLY\n",
    "# ----------------------------------\n",
    "import plotly\n",
    "import plotly.plotly as py\n",
    "import plotly.offline as offline\n",
    "import plotly.graph_objs as go\n",
    "from plotly.offline import download_plotlyjs, init_notebook_mode, plot, iplot\n",
    "init_notebook_mode(connected=True)\n",
    "import cufflinks as cf\n",
    "from plotly.graph_objs import Scatter, Figure, Layout\n",
    "cf.set_config_file(offline=True)\n",
    "from folium.plugins import MarkerCluster"
   ]
  },
  {
   "cell_type": "code",
   "execution_count": null,
   "metadata": {},
   "outputs": [],
   "source": [
    "print(folium.__version__)"
   ]
  },
  {
   "cell_type": "code",
   "execution_count": null,
   "metadata": {},
   "outputs": [],
   "source": [
    "#import the necesssary packages \n",
    "import folium \n",
    "import pandas as pd \n",
    "from folium import FeatureGroup, LayerControl, Map, Marker\n",
    "  \n",
    "# importing the dataset as a csv file, \n",
    "# and storing it as a dataframe in 'df' \n",
    "Robbery_df=pd.read_csv('Robbery_2014_to_2018.csv')\n",
    "Robbery_df_Original=pd.read_csv('Robbery_data.csv')"
   ]
  },
  {
   "cell_type": "code",
   "execution_count": null,
   "metadata": {},
   "outputs": [],
   "source": [
    "Robbery_df.info()"
   ]
  },
  {
   "cell_type": "code",
   "execution_count": null,
   "metadata": {},
   "outputs": [],
   "source": [
    "# Toronto locations 43.6532° N, 79.3832° W\n",
    "# -------------------------------------------------------------------------------------------------------------------------\n",
    "# lat=43.6529&lng=-79.3849\n",
    "\n",
    "Toronto_map1 = folium.Map(location = [43.6532,-79.3832], \n",
    "                                        zoom_start = 15) \n",
    "  \n",
    "# Pass a string in popup parameter \n",
    "folium.Marker([43.6532 , -79.3832], \n",
    "               popup = ' Map of Toronto').add_to(Toronto_map1) \n",
    "  \n"
   ]
  },
  {
   "cell_type": "code",
   "execution_count": null,
   "metadata": {},
   "outputs": [],
   "source": [
    "Toronto_map1"
   ]
  },
  {
   "cell_type": "code",
   "execution_count": null,
   "metadata": {},
   "outputs": [],
   "source": [
    "# calculating the mean of the latitudes \n",
    "# and longitudes of the locations of volcanoes \n",
    "latmean=Robbery_df['Lat'].mean() \n",
    "lonmean=Robbery_df['Long'].mean() \n",
    "print(latmean)\n",
    "print(lonmean)"
   ]
  },
  {
   "cell_type": "code",
   "execution_count": null,
   "metadata": {},
   "outputs": [],
   "source": [
    "# Function to change the marker color  \n",
    "# according to the elevation of volcano \n",
    "def color(elev): \n",
    "    if elev in range(-79.434601,43.731232): \n",
    "        col = 'green'\n",
    "    elif elev in range(1001,1999): \n",
    "        col = 'blue'\n",
    "    elif elev in range(2000,2999): \n",
    "        col = 'orange'\n",
    "    else: \n",
    "        col='red'\n",
    "    return col "
   ]
  },
  {
   "cell_type": "code",
   "execution_count": null,
   "metadata": {},
   "outputs": [],
   "source": [
    "# calculating the mean of the latitudes \n",
    "# and longitudes of the locations of volcanoes \n",
    "latmin=Robbery_df['Lat'].min() \n",
    "latmax=Robbery_df['Lat'].max() \n",
    "lonmin=Robbery_df['Long'].min() \n",
    "lonmax=Robbery_df['Long'].max() \n",
    "print(latmin)\n",
    "print(latmax)\n",
    "print(lonmin)\n",
    "print(lonmax)"
   ]
  },
  {
   "cell_type": "code",
   "execution_count": null,
   "metadata": {},
   "outputs": [],
   "source": [
    "import folium \n",
    "  \n",
    "Toronto_Map = folium.Map(location = [43.6542138, -79.3921795],zoom_start = 14) \n",
    "  \n",
    "#folium.Marker([43.6542138, -79.3921795], popup = 'Sheraton Centre Toronto Hotel').add_to(Toronto_map3) \n",
    "#folium.Marker([41.6529, -77.3849], popup = 'Toronto Map').add_to(Toronto_map3) \n",
    "#Toronto_map3.save(\"Toronto_map3.html\") \n",
    "#Toronto_map3\n",
    "\n",
    "# INITIALIZATION OF ROBBERY LIST LOCATIONS\n",
    "\n",
    "Robbery_loc=Robbery_df[['Lat','Long']]\n",
    "Robbery_loc_list=Robbery_loc.values.tolist()\n",
    "len(Robbery_loc_list)\n",
    "#Robbery_loc_list[8]\n",
    "\n",
    "#for point in range (0,len(Robbery_loc_list)):\n",
    "\n",
    "for point in range (0,2000):\n",
    "    folium.Marker(Robbery_loc_list[point], popup=(Robbery_df['Division']+':'+Robbery_df['offence']+' '+Robbery_df['Neighbourhood'])[point], icon= folium.Icon(color='red')).add_to(Toronto_Map)\n",
    "#    folium.Marker(Robbery_loc_list[point], icon= folium.Icon(color='red')).add_to(Toronto_Map)   \n",
    "print(Toronto_Map.save('Robbery_map_of_Toronto_50.html'))\n",
    "Toronto_Map\n",
    "# Save the file created above "
   ]
  },
  {
   "cell_type": "code",
   "execution_count": null,
   "metadata": {},
   "outputs": [],
   "source": []
  }
 ],
 "metadata": {
  "kernelspec": {
   "display_name": "Python 3",
   "language": "python",
   "name": "python3"
  },
  "language_info": {
   "codemirror_mode": {
    "name": "ipython",
    "version": 3
   },
   "file_extension": ".py",
   "mimetype": "text/x-python",
   "name": "python",
   "nbconvert_exporter": "python",
   "pygments_lexer": "ipython3",
   "version": "3.7.1"
  }
 },
 "nbformat": 4,
 "nbformat_minor": 2
}
