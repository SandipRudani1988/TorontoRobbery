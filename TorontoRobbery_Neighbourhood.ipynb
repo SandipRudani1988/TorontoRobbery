{
 "cells": [
  {
   "cell_type": "markdown",
   "metadata": {},
   "source": [
    "Before you turn this problem in, make sure everything runs as expected. First, **restart the kernel** (in the menu bar, select Kernel$\\rightarrow$Restart) and then **run all cells** (in the menu bar, select Cell$\\rightarrow$Run All).\n",
    "\n",
    "Make sure that in addition to the code, you provide written answers for all questions of the assignment. "
   ]
  },
  {
   "cell_type": "markdown",
   "metadata": {},
   "source": [
    "## Term Project: TorontoRobbery - Data Analysis \n"
   ]
  },
  {
   "cell_type": "markdown",
   "metadata": {},
   "source": [
    "For this term project, we will analyze the open dataset of toronto robbery provided by Toronto City(http://data.torontopolice.on.ca/datasets/281a5ad35c60458cb7de41c5ae99d5b5_0.) . \n",
    "\n",
    "We are going to read the data from the file into pandas DataFrame. Analyze, clean and transform the data to answer the following question:"
   ]
  },
  {
   "cell_type": "markdown",
   "metadata": {},
   "source": [
    "### Questions:"
   ]
  },
  {
   "cell_type": "markdown",
   "metadata": {},
   "source": [
    "**TYPE:**\n",
    "\n",
    "1. What type of robbery is most common? Least common?\n",
    "2. Does this change from 2014 to 2017?\n",
    "            -year by year comparison\n",
    "            -2018 - 2014 comparison\n",
    "            \n",
    "**TIME:**\n",
    "\n",
    "1. At what time is a robbery most likely to occur? Least likely?\n",
    "            -Time/Hour of the day\n",
    "            -Morning/Afternoon/Evening ← a new categorical variable\n",
    "            -Day of week\n",
    "            -Month of year\n",
    "            -Season ← a new categorical variable\n",
    "2. Does this change from 2014 to 2017?\n",
    "            -year by year comparison\n",
    "            -2017 - 2014 comparison\n",
    "\n",
    "**LOCATION:**\n",
    "\n",
    "1. In what areas do most robberies occur? Least robberies?\n",
    "            -Neighbourhood\n",
    "            -Location (commercial vs. outside)\n",
    "            -Robbery relative to Income\n",
    "            -Robbery relation to Education level\n",
    "2. % of neighbourhood residents whose mother tongue is not English or French\n",
    "\n",
    "3. % of neighbourhood residents who are unemployed\n",
    "\n",
    "4. % of neighbourhood residents who are movers\n",
    "\n",
    "**RESPONSE:**\n",
    "1. Which police divisions respond to the most robberies?\n",
    "2. How long do people wait to report a robbery (e.g. reported date vs. occuring date)?\n",
    "3. Which robbery types are reported the most quickly? Least quickly?\n",
    "\n",
    "\n",
    "**PREDICTION:** \n",
    "\n",
    " - Based on a given time and location, how likely are you to be robbed?\n",
    "     - Note: must define time (e.g. hour vs. day) and location"
   ]
  },
  {
   "cell_type": "code",
   "execution_count": 1,
   "metadata": {},
   "outputs": [],
   "source": [
    "import pandas as pd\n",
    "import numpy as np\n",
    "from matplotlib import pyplot as plt\n",
    "import seaborn as sns\n",
    "sns.set()"
   ]
  },
  {
   "cell_type": "code",
   "execution_count": 2,
   "metadata": {},
   "outputs": [],
   "source": [
    "# Load CSV file into Panda's DataFrame \n",
    "\n",
    "robbery_data = pd.read_csv('Data/robbery_data.csv',index_col = \"Record_ID\")\n",
    "\n",
    "neighbourhood_data = pd.read_csv('Data/neighbourhood.csv',index_col = \"Neighbourhood_ID\")\n",
    "\n",
    "offence_data = pd.read_csv('Data/offences.csv', index_col = \"Offence_ID\")\n",
    "\n",
    "premises_data =  pd.read_csv('Data/premise_types.csv',index_col = \"Premise_Type_ID\")\n",
    "\n",
    "daytime_data = pd.read_csv('Data/time_of_day.csv',index_col = \"Time_Of_Day_ID\")\n"
   ]
  },
  {
   "cell_type": "code",
   "execution_count": 3,
   "metadata": {},
   "outputs": [],
   "source": [
    "##Merge the robbery dataset and neighbourhood dataset into one file (mergedfile)\n"
   ]
  },
  {
   "cell_type": "code",
   "execution_count": 4,
   "metadata": {},
   "outputs": [
    {
     "data": {
      "text/plain": [
       "Occurrence_DateTime                          object\n",
       "Reported_DateTime                            object\n",
       "Reported_After_Occurrence_WEEKS               int64\n",
       "Reported_After_Occurrence_DAYS                int64\n",
       "Reported_After_Occurrence_HOURS               int64\n",
       "Reported_After_Occurrence_MINUTES             int64\n",
       "Occurence_Date                       datetime64[ns]\n",
       "Occurred_Time_Of_Day_ID                       int64\n",
       "Reported_Date                                object\n",
       "Reported_Time_Of_Day_ID                       int64\n",
       "Neighbourhood_ID                              int64\n",
       "Offence_ID                                    int64\n",
       "Premise_Type_ID                               int64\n",
       "Occurrence_Postal_Code                       object\n",
       "Occurrence_FSA                               object\n",
       "Division                                     object\n",
       "Division_Num                                  int64\n",
       "occurrencedate                               object\n",
       "reporteddate                                 object\n",
       "occurrencehour                                int64\n",
       "reportedhour                                  int64\n",
       "dtype: object"
      ]
     },
     "execution_count": 4,
     "metadata": {},
     "output_type": "execute_result"
    }
   ],
   "source": [
    "robbery_data['Occurence_Date'] = pd.to_datetime(robbery_data['Occurence_Date'])\n",
    "robbery_data.dtypes"
   ]
  },
  {
   "cell_type": "code",
   "execution_count": 5,
   "metadata": {},
   "outputs": [
    {
     "data": {
      "text/plain": [
       "2014    3585\n",
       "2015    3464\n",
       "2016    3613\n",
       "2017    3901\n",
       "2018    3522\n",
       "Name: Occurance_Year, dtype: int64"
      ]
     },
     "execution_count": 5,
     "metadata": {},
     "output_type": "execute_result"
    }
   ],
   "source": [
    "robbery_data['Occurance_Year'] = robbery_data['Occurence_Date'].dt.year\n",
    "robbery_data_1418 = robbery_data[robbery_data.Occurance_Year > 2013]\n",
    "year_totals = robbery_data_1418['Occurance_Year'].value_counts().sort_index()\n",
    "year_totals"
   ]
  },
  {
   "cell_type": "code",
   "execution_count": 6,
   "metadata": {},
   "outputs": [],
   "source": [
    "mergedfile = pd.merge(robbery_data_1418, neighbourhood_data, how='inner', on=['Neighbourhood_ID'])\n",
    "mergedfile\n",
    "#mergedfile.to_csv('Data/mergedfile.csv')"
   ]
  },
  {
   "cell_type": "code",
   "execution_count": 7,
   "metadata": {},
   "outputs": [],
   "source": [
    "## In what neighbourhoods do most robberies occur? Least robberies? (2014-2018 Total)\n"
   ]
  },
  {
   "cell_type": "code",
   "execution_count": 8,
   "metadata": {},
   "outputs": [
    {
     "data": {
      "text/plain": [
       "Church-Yonge Corridor                  903\n",
       "Moss Park                              628\n",
       "Mount Olive-Silverstone-Jamestown      460\n",
       "Woburn                                 429\n",
       "West Humber-Clairville                 375\n",
       "York University Heights                370\n",
       "Kensington-Chinatown                   367\n",
       "Bendale                                346\n",
       "West Hill                              322\n",
       "Dovercourt-Wallace Emerson-Junction    316\n",
       "Annex                                  314\n",
       "Waterfront Communities-The Island      308\n",
       "Downsview-Roding-CFB                   297\n",
       "Bay Street Corridor                    286\n",
       "Eglinton East                          267\n",
       "Black Creek                            252\n",
       "Malvern                                249\n",
       "Willowdale East                        233\n",
       "L'Amoreaux                             223\n",
       "Clairlea-Birchmount                    221\n",
       "Glenfield-Jane Heights                 216\n",
       "Kennedy Park                           209\n",
       "Islington-City Centre West             207\n",
       "Wexford/Maryvale                       201\n",
       "South Riverdale                        197\n",
       "Rouge                                  196\n",
       "Oakridge                               192\n",
       "Dorset Park                            191\n",
       "Rockcliffe-Smythe                      184\n",
       "Humber Summit                          179\n",
       "                                      ... \n",
       "Humber Heights-Westmount                47\n",
       "Leaside-Bennington                      47\n",
       "Yonge-Eglinton                          46\n",
       "Guildwood                               44\n",
       "Victoria Village                        44\n",
       "Woodbine-Lumsden                        43\n",
       "Little Portugal                         42\n",
       "Clanton Park                            41\n",
       "Pleasant View                           41\n",
       "Princess-Rosethorn                      38\n",
       "Bayview Village                         38\n",
       "Alderwood                               36\n",
       "Danforth East York                      34\n",
       "Casa Loma                               34\n",
       "Caledonia-Fairbank                      31\n",
       "Markland Wood                           27\n",
       "Lawrence Park South                     27\n",
       "Edenbridge-Humber Valley                26\n",
       "Etobicoke West Mall                     26\n",
       "Mount Pleasant East                     26\n",
       "Centennial Scarborough                  25\n",
       "Broadview North                         24\n",
       "Henry Farm                              23\n",
       "Humewood-Cedarvale                      21\n",
       "Bayview Woods-Steeles                   19\n",
       "Lawrence Park North                     18\n",
       "Forest Hill South                       12\n",
       "Lambton Baby Point                      10\n",
       "Yonge-St.Clair                           8\n",
       "Bridle Path-Sunnybrook-York Mills        6\n",
       "Name: Neighbourhood, Length: 140, dtype: int64"
      ]
     },
     "execution_count": 8,
     "metadata": {},
     "output_type": "execute_result"
    }
   ],
   "source": [
    "mergedfile['Neighbourhood'].value_counts()"
   ]
  },
  {
   "cell_type": "code",
   "execution_count": 9,
   "metadata": {},
   "outputs": [
    {
     "data": {
      "text/plain": [
       "Church-Yonge Corridor                  903\n",
       "Moss Park                              628\n",
       "Mount Olive-Silverstone-Jamestown      460\n",
       "Woburn                                 429\n",
       "West Humber-Clairville                 375\n",
       "York University Heights                370\n",
       "Kensington-Chinatown                   367\n",
       "Bendale                                346\n",
       "West Hill                              322\n",
       "Dovercourt-Wallace Emerson-Junction    316\n",
       "Annex                                  314\n",
       "Waterfront Communities-The Island      308\n",
       "Downsview-Roding-CFB                   297\n",
       "Bay Street Corridor                    286\n",
       "Eglinton East                          267\n",
       "Black Creek                            252\n",
       "Malvern                                249\n",
       "Willowdale East                        233\n",
       "L'Amoreaux                             223\n",
       "Clairlea-Birchmount                    221\n",
       "Name: Neighbourhood, dtype: int64"
      ]
     },
     "execution_count": 9,
     "metadata": {},
     "output_type": "execute_result"
    }
   ],
   "source": [
    "mergedfile['Neighbourhood'].value_counts().nlargest(20)"
   ]
  },
  {
   "cell_type": "code",
   "execution_count": 10,
   "metadata": {
    "scrolled": true
   },
   "outputs": [
    {
     "data": {
      "text/plain": [
       "Bridle Path-Sunnybrook-York Mills     6\n",
       "Yonge-St.Clair                        8\n",
       "Lambton Baby Point                   10\n",
       "Forest Hill South                    12\n",
       "Lawrence Park North                  18\n",
       "Bayview Woods-Steeles                19\n",
       "Humewood-Cedarvale                   21\n",
       "Henry Farm                           23\n",
       "Broadview North                      24\n",
       "Centennial Scarborough               25\n",
       "Edenbridge-Humber Valley             26\n",
       "Etobicoke West Mall                  26\n",
       "Mount Pleasant East                  26\n",
       "Markland Wood                        27\n",
       "Lawrence Park South                  27\n",
       "Caledonia-Fairbank                   31\n",
       "Danforth East York                   34\n",
       "Casa Loma                            34\n",
       "Alderwood                            36\n",
       "Princess-Rosethorn                   38\n",
       "Name: Neighbourhood, dtype: int64"
      ]
     },
     "execution_count": 10,
     "metadata": {},
     "output_type": "execute_result"
    }
   ],
   "source": [
    "mergedfile['Neighbourhood'].value_counts().nsmallest(20)"
   ]
  },
  {
   "cell_type": "code",
   "execution_count": null,
   "metadata": {
    "scrolled": true
   },
   "outputs": [],
   "source": []
  },
  {
   "cell_type": "code",
   "execution_count": 11,
   "metadata": {},
   "outputs": [
    {
     "data": {
      "text/plain": [
       "2017    3901\n",
       "2016    3613\n",
       "2014    3585\n",
       "2018    3522\n",
       "2015    3464\n",
       "Name: Occurance_Year, dtype: int64"
      ]
     },
     "execution_count": 11,
     "metadata": {},
     "output_type": "execute_result"
    }
   ],
   "source": [
    "mergedfile['Occurance_Year'] = mergedfile['Occurence_Date'].dt.year\n",
    "year_totals = mergedfile['Occurance_Year'].value_counts()\n",
    "year_totals"
   ]
  },
  {
   "cell_type": "code",
   "execution_count": 12,
   "metadata": {},
   "outputs": [
    {
     "data": {
      "text/plain": [
       "Occurance_Year  Neighbourhood                    \n",
       "2018            Church-Yonge Corridor                224\n",
       "2017            Church-Yonge Corridor                206\n",
       "2016            Church-Yonge Corridor                172\n",
       "2018            Moss Park                            159\n",
       "2015            Church-Yonge Corridor                158\n",
       "2014            Church-Yonge Corridor                143\n",
       "2015            Moss Park                            133\n",
       "2017            Woburn                               126\n",
       "2014            Moss Park                            125\n",
       "2016            Moss Park                            118\n",
       "                Mount Olive-Silverstone-Jamestown    114\n",
       "2015            Mount Olive-Silverstone-Jamestown    108\n",
       "2017            Kensington-Chinatown                  95\n",
       "                Moss Park                             93\n",
       "                West Humber-Clairville                93\n",
       "2018            Waterfront Communities-The Island     93\n",
       "2017            Mount Olive-Silverstone-Jamestown     88\n",
       "2018            York University Heights               85\n",
       "2015            York University Heights               84\n",
       "2014            Woburn                                83\n",
       "Name: Neighbourhood, dtype: int64"
      ]
     },
     "execution_count": 12,
     "metadata": {},
     "output_type": "execute_result"
    }
   ],
   "source": [
    "## In what neighbourhoods do most robberies occur? Least robberies? (22014-2018 every year)\n",
    "offence_per_year = mergedfile.groupby(by='Occurance_Year')['Neighbourhood'].value_counts()\n",
    "offence_per_year.nlargest(20)\n"
   ]
  },
  {
   "cell_type": "code",
   "execution_count": 13,
   "metadata": {},
   "outputs": [
    {
     "data": {
      "text/plain": [
       "Occurance_Year  Neighbourhood                    \n",
       "2014            Bridle Path-Sunnybrook-York Mills    1\n",
       "                Henry Farm                           1\n",
       "                Lambton Baby Point                   1\n",
       "2015            Bayview Woods-Steeles                1\n",
       "                Forest Hill South                    1\n",
       "                Lambton Baby Point                   1\n",
       "2016            Henry Farm                           1\n",
       "2017            Bridle Path-Sunnybrook-York Mills    1\n",
       "                Broadview North                      1\n",
       "2018            Humewood-Cedarvale                   1\n",
       "                Lambton Baby Point                   1\n",
       "                Yonge-St.Clair                       1\n",
       "2014            Mount Pleasant East                  2\n",
       "                Yonge-St.Clair                       2\n",
       "2015            Bridle Path-Sunnybrook-York Mills    2\n",
       "                Markland Wood                        2\n",
       "2016            Bridle Path-Sunnybrook-York Mills    2\n",
       "                Casa Loma                            2\n",
       "                Forest Hill South                    2\n",
       "                Lawrence Park South                  2\n",
       "Name: Neighbourhood, dtype: int64"
      ]
     },
     "execution_count": 13,
     "metadata": {},
     "output_type": "execute_result"
    }
   ],
   "source": [
    "offence_per_year.nsmallest(20)"
   ]
  },
  {
   "cell_type": "code",
   "execution_count": 14,
   "metadata": {},
   "outputs": [
    {
     "data": {
      "text/plain": [
       "<matplotlib.axes._subplots.AxesSubplot at 0x1a18d6c320>"
      ]
     },
     "execution_count": 14,
     "metadata": {},
     "output_type": "execute_result"
    },
    {
     "data": {
      "image/png": "[encoded data removed]",
      "text/plain": [
       "<Figure size 432x288 with 1 Axes>"
      ]
     },
     "metadata": {
      "needs_background": "light"
     },
     "output_type": "display_data"
    }
   ],
   "source": [
    "##Data visualization, plotting the 10 neighorhood with the highest nunbers of robberies (2014-2018)\n",
    "\n",
    "mergedfile['Neighbourhood'].value_counts()[:10].plot(kind='barh')"
   ]
  },
  {
   "cell_type": "code",
   "execution_count": 15,
   "metadata": {
    "scrolled": true
   },
   "outputs": [
    {
     "data": {
      "text/plain": [
       "<matplotlib.axes._subplots.AxesSubplot at 0x1042a4518>"
      ]
     },
     "execution_count": 15,
     "metadata": {},
     "output_type": "execute_result"
    },
    {
     "data": {
      "image/png": "[encoded data removed]",
      "text/plain": [
       "<Figure size 432x288 with 1 Axes>"
      ]
     },
     "metadata": {
      "needs_background": "light"
     },
     "output_type": "display_data"
    }
   ],
   "source": [
    "##plotting the 10 neighorhood with the lowest nunbers of robberies (2014-2018)\n",
    "\n",
    "mergedfile['Neighbourhood'].value_counts(ascending=True)[:10].plot(kind='barh')"
   ]
  },
  {
   "cell_type": "code",
   "execution_count": 16,
   "metadata": {},
   "outputs": [
    {
     "data": {
      "text/plain": [
       "Occurance_Year  Premise_Type_ID\n",
       "2014            1                  2175\n",
       "2015            1                  2032\n",
       "2016            1                  2085\n",
       "2017            1                  2128\n",
       "2018            1                  1875\n",
       "Name: Premise_Type_ID, dtype: int64"
      ]
     },
     "execution_count": 16,
     "metadata": {},
     "output_type": "execute_result"
    }
   ],
   "source": [
    "##Location of Robbery: 1-House\n",
    "Premise_House = robbery_data_1418.loc[robbery_data['Premise_Type_ID'] == 1]\n",
    "Premise_House_Year = Premise_House.groupby(by='Occurance_Year')['Premise_Type_ID'].value_counts()\n",
    "Premise_House_Year"
   ]
  },
  {
   "cell_type": "code",
   "execution_count": 17,
   "metadata": {},
   "outputs": [
    {
     "data": {
      "text/plain": [
       "Occurance_Year  Premise_Type_ID\n",
       "2014            2                  336\n",
       "2015            2                  342\n",
       "2016            2                  293\n",
       "2017            2                  351\n",
       "2018            2                  311\n",
       "Name: Premise_Type_ID, dtype: int64"
      ]
     },
     "execution_count": 17,
     "metadata": {},
     "output_type": "execute_result"
    }
   ],
   "source": [
    "##Location of Robbery: 2-Apartment\n",
    "Premise_Apt = robbery_data_1418.loc[robbery_data['Premise_Type_ID'] == 2]\n",
    "Premise_Apt_Year = Premise_Apt.groupby(by='Occurance_Year')['Premise_Type_ID'].value_counts()\n",
    "Premise_Apt_Year"
   ]
  },
  {
   "cell_type": "code",
   "execution_count": 18,
   "metadata": {},
   "outputs": [
    {
     "data": {
      "text/plain": [
       "Occurance_Year  Premise_Type_ID\n",
       "2014            3                  317\n",
       "2015            3                  227\n",
       "2016            3                  290\n",
       "2017            3                  337\n",
       "2018            3                  296\n",
       "Name: Premise_Type_ID, dtype: int64"
      ]
     },
     "execution_count": 18,
     "metadata": {},
     "output_type": "execute_result"
    }
   ],
   "source": [
    "##Location of Robbery: 3-Outside\n",
    "Premise_Out = robbery_data_1418.loc[robbery_data['Premise_Type_ID'] == 3]\n",
    "Premise_Out_Year = Premise_Out.groupby(by='Occurance_Year')['Premise_Type_ID'].value_counts()\n",
    "Premise_Out_Year"
   ]
  },
  {
   "cell_type": "code",
   "execution_count": 19,
   "metadata": {},
   "outputs": [
    {
     "data": {
      "text/plain": [
       "Occurance_Year  Premise_Type_ID\n",
       "2014            4                   80\n",
       "2015            4                  103\n",
       "2016            4                  125\n",
       "2017            4                  126\n",
       "2018            4                   92\n",
       "Name: Premise_Type_ID, dtype: int64"
      ]
     },
     "execution_count": 19,
     "metadata": {},
     "output_type": "execute_result"
    }
   ],
   "source": [
    "##Location of Robbery: 4-Other\n",
    "Premise_Other = robbery_data_1418.loc[robbery_data['Premise_Type_ID'] == 4]\n",
    "Premise_Other_Year = Premise_Other.groupby(by='Occurance_Year')['Premise_Type_ID'].value_counts()\n",
    "Premise_Other_Year"
   ]
  },
  {
   "cell_type": "code",
   "execution_count": 23,
   "metadata": {},
   "outputs": [
    {
     "data": {
      "text/plain": [
       "Occurance_Year  Premise_Type_ID\n",
       "2014            5                  677\n",
       "2015            5                  760\n",
       "2016            5                  820\n",
       "2017            5                  959\n",
       "2018            5                  948\n",
       "Name: Premise_Type_ID, dtype: int64"
      ]
     },
     "execution_count": 23,
     "metadata": {},
     "output_type": "execute_result"
    }
   ],
   "source": [
    "##Location of Robbery: 5-Commercial\n",
    "Premise_Com = robbery_data_1418.loc[robbery_data['Premise_Type_ID'] == 5]\n",
    "Premise_Com_Year = Premise_Com.groupby(by='Occurance_Year')['Premise_Type_ID'].value_counts()\n",
    "Premise_Com_Year"
   ]
  },
  {
   "cell_type": "code",
   "execution_count": 24,
   "metadata": {
    "scrolled": true
   },
   "outputs": [
    {
     "data": {
      "text/plain": [
       "Neighbourhood                                                            object\n",
       "PopulationCount                                                           int64\n",
       "PopulationDensity_Per_SqKM                                                int64\n",
       "PopulationCount_0_14                                                      int64\n",
       "PopulationCount_15_24                                                     int64\n",
       "PopulationCount_25_54                                                     int64\n",
       "PopulationCount_55_64                                                     int64\n",
       "PopulationCount_65+                                                       int64\n",
       "Percentage of residents do not speak English or French                  float64\n",
       "Percentage of residents whose mother tongue is not English or French    float64\n",
       "Percentage of residents who do not speak offical languages at home      float64\n",
       "Percentage of residents with totoal income of $150K and over            float64\n",
       "Percentage of Household Income of Over $200K                            float64\n",
       "Percentage of Non Canadian Citizen                                      float64\n",
       "Percentage of visible minority                                          float64\n",
       "Percentage with no certificate/diploma/degree                           float64\n",
       "Percentage with  Bachelor degree or above                               float64\n",
       "UnemploymentRate                                                        float64\n",
       "Percentage of Movers (mobility status 1 year ago)                       float64\n",
       "Percentage of Movers (mobility status 5 year ago)                       float64\n",
       "Latitude                                                                float64\n",
       "Longitude                                                               float64\n",
       "No. of Robberies in 2014                                                  int64\n",
       "No. of Robberies in 2015                                                  int64\n",
       "No. of Robberies in 2016                                                  int64\n",
       "No. of Robberies in 2017                                                  int64\n",
       "No. of Robberies in 2018                                                  int64\n",
       "No. of Robberies (2014-2018)                                              int64\n",
       "dtype: object"
      ]
     },
     "execution_count": 24,
     "metadata": {},
     "output_type": "execute_result"
    }
   ],
   "source": [
    "##Correlation between the number of robberies and demographic variables I engineered for this analysis\n",
    "\n",
    "neighbourhood_data = pd.read_csv('Data/neighbourhood.csv',index_col = \"Neighbourhood_ID\")\n",
    "neighbourhood_data.dtypes\n"
   ]
  },
  {
   "cell_type": "code",
   "execution_count": 26,
   "metadata": {},
   "outputs": [
    {
     "data": {
      "text/plain": [
       "<matplotlib.axes._subplots.AxesSubplot at 0x1a19bc74a8>"
      ]
     },
     "execution_count": 26,
     "metadata": {},
     "output_type": "execute_result"
    },
    {
     "data": {
      "image/png": "[encoded data removed]",
      "text/plain": [
       "<Figure size 432x288 with 2 Axes>"
      ]
     },
     "metadata": {
      "needs_background": "light"
     },
     "output_type": "display_data"
    }
   ],
   "source": [
    "##create a correlation matrix heat map to visualize where strong to moderate correlations exisit. \n",
    "import seaborn as sns\n",
    "corr = neighbourhood_data.corr()\n",
    "sns.heatmap(corr, \n",
    "            xticklabels=corr.columns.values,\n",
    "            yticklabels=corr.columns.values)\n",
    "\n",
    "##from this heatmap, the moderate correlations exist between population variables, No. of Robberies (2014-2018) and income levels and education level "
   ]
  },
  {
   "cell_type": "code",
   "execution_count": 27,
   "metadata": {},
   "outputs": [
    {
     "data": {
      "text/plain": [
       "-0.31460488345590126"
      ]
     },
     "execution_count": 27,
     "metadata": {},
     "output_type": "execute_result"
    }
   ],
   "source": [
    "neighbourhood_data['No. of Robberies (2014-2018)'].corr(neighbourhood_data['Percentage of Household Income of Over $200K'])"
   ]
  },
  {
   "cell_type": "code",
   "execution_count": 28,
   "metadata": {},
   "outputs": [
    {
     "data": {
      "text/plain": [
       "-0.24990836473778413"
      ]
     },
     "execution_count": 28,
     "metadata": {},
     "output_type": "execute_result"
    }
   ],
   "source": [
    "neighbourhood_data['No. of Robberies (2014-2018)'].corr(neighbourhood_data['Percentage of residents with totoal income of $150K and over'])"
   ]
  },
  {
   "cell_type": "code",
   "execution_count": 29,
   "metadata": {},
   "outputs": [
    {
     "data": {
      "text/plain": [
       "0.5473166240411039"
      ]
     },
     "execution_count": 29,
     "metadata": {},
     "output_type": "execute_result"
    }
   ],
   "source": [
    "neighbourhood_data['No. of Robberies (2014-2018)'].corr(neighbourhood_data['PopulationCount'])"
   ]
  },
  {
   "cell_type": "code",
   "execution_count": 30,
   "metadata": {},
   "outputs": [
    {
     "data": {
      "text/plain": [
       "0.26333316920937916"
      ]
     },
     "execution_count": 30,
     "metadata": {},
     "output_type": "execute_result"
    }
   ],
   "source": [
    "neighbourhood_data['No. of Robberies (2014-2018)'].corr(neighbourhood_data['PopulationDensity_Per_SqKM'])"
   ]
  },
  {
   "cell_type": "code",
   "execution_count": 31,
   "metadata": {},
   "outputs": [
    {
     "data": {
      "text/plain": [
       "0.08843418293847283"
      ]
     },
     "execution_count": 31,
     "metadata": {},
     "output_type": "execute_result"
    }
   ],
   "source": [
    "neighbourhood_data['No. of Robberies (2014-2018)'].corr(neighbourhood_data['Percentage of residents do not speak English or French'])"
   ]
  },
  {
   "cell_type": "code",
   "execution_count": 32,
   "metadata": {},
   "outputs": [
    {
     "data": {
      "text/plain": [
       "0.12908602293114999"
      ]
     },
     "execution_count": 32,
     "metadata": {},
     "output_type": "execute_result"
    }
   ],
   "source": [
    "neighbourhood_data['No. of Robberies (2014-2018)'].corr(neighbourhood_data['Percentage of residents who do not speak offical languages at home'])"
   ]
  },
  {
   "cell_type": "code",
   "execution_count": 33,
   "metadata": {},
   "outputs": [
    {
     "data": {
      "text/plain": [
       "0.24844260128852444"
      ]
     },
     "execution_count": 33,
     "metadata": {},
     "output_type": "execute_result"
    }
   ],
   "source": [
    "neighbourhood_data['No. of Robberies (2014-2018)'].corr(neighbourhood_data['Percentage of Non Canadian Citizen'])"
   ]
  },
  {
   "cell_type": "code",
   "execution_count": 34,
   "metadata": {},
   "outputs": [
    {
     "data": {
      "text/plain": [
       "0.12908602293114999"
      ]
     },
     "execution_count": 34,
     "metadata": {},
     "output_type": "execute_result"
    }
   ],
   "source": [
    "neighbourhood_data['No. of Robberies (2014-2018)'].corr(neighbourhood_data['Percentage of residents who do not speak offical languages at home'])"
   ]
  },
  {
   "cell_type": "code",
   "execution_count": 35,
   "metadata": {},
   "outputs": [
    {
     "data": {
      "text/plain": [
       "0.12908602293114999"
      ]
     },
     "execution_count": 35,
     "metadata": {},
     "output_type": "execute_result"
    }
   ],
   "source": [
    "neighbourhood_data['No. of Robberies (2014-2018)'].corr(neighbourhood_data['Percentage of residents who do not speak offical languages at home'])"
   ]
  },
  {
   "cell_type": "code",
   "execution_count": 36,
   "metadata": {},
   "outputs": [],
   "source": [
    "corr=neighbourhood_data.corr(method ='pearson') \n",
    "corr\n",
    "#corr.to_csv('Data/corr.csv')"
   ]
  },
  {
   "cell_type": "code",
   "execution_count": null,
   "metadata": {},
   "outputs": [],
   "source": [
    "corr"
   ]
  },
  {
   "cell_type": "code",
   "execution_count": null,
   "metadata": {},
   "outputs": [],
   "source": []
  },
  {
   "cell_type": "code",
   "execution_count": null,
   "metadata": {},
   "outputs": [],
   "source": []
  },
  {
   "cell_type": "code",
   "execution_count": null,
   "metadata": {},
   "outputs": [],
   "source": []
  }
 ],
 "metadata": {
  "kernelspec": {
   "display_name": "Python 3",
   "language": "python",
   "name": "python3"
  },
  "language_info": {
   "codemirror_mode": {
    "name": "ipython",
    "version": 3
   },
   "file_extension": ".py",
   "mimetype": "text/x-python",
   "name": "python",
   "nbconvert_exporter": "python",
   "pygments_lexer": "ipython3",
   "version": "3.7.1"
  }
 },
 "nbformat": 4,
 "nbformat_minor": 2
}
