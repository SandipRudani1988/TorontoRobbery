{
 "cells": [
  {
   "cell_type": "code",
   "execution_count": null,
   "metadata": {},
   "outputs": [],
   "source": [
    "import numpy as np # linear algebra\n",
    "import pandas as pd # data processing, CSV file I/O (e.g. pd.read_csv)\n",
    "import matplotlib.pyplot as plt\n",
    "import seaborn as sns\n",
    "# ---------------------------------------------------------------------------------------------------------------------------\n",
    "import plotly\n",
    "import plotly.plotly as py\n",
    "import plotly.offline as offline\n",
    "import plotly.graph_objs as go\n",
    "import folium"
   ]
  },
  {
   "cell_type": "code",
   "execution_count": null,
   "metadata": {},
   "outputs": [],
   "source": [
    "Robbery_df = pd.read_csv('robbery_data.csv',\n",
    "                          index_col = \"Record_ID\")\n",
    "\n",
    "neighbourhood_df = pd.read_csv('neighbourhood.csv',\n",
    "                          index_col = \"Neighbourhood_ID\")\n",
    "\n",
    "offence_df = pd.read_csv('offences.csv',\n",
    "                          index_col = \"Offence_ID\")\n",
    "\n",
    "neighbourhood_df = pd.read_csv('neighbourhood.csv',\n",
    "                          index_col = \"Neighbourhood_ID\")\n",
    "\n",
    "premises_df =  pd.read_csv('premise_types.csv',\n",
    "                          index_col = \"Premise_Type_ID\")\n",
    "\n",
    "daytime_df = pd.read_csv('time_of_day.csv',\n",
    "                          index_col = \"Time_Of_Day_ID\")\n"
   ]
  },
  {
   "cell_type": "code",
   "execution_count": null,
   "metadata": {},
   "outputs": [],
   "source": [
    "# Create Occurance_Year colunm to facilate analysis per year\n",
    "# ---------------------------------------------------------------------------------------------------------------------------\n",
    "Robbery_df['Occurence_Date'] = pd.to_datetime(Robbery_df['Occurence_Date'])\n",
    "Robbery_df['Occurance_Year'] = Robbery_df['Occurence_Date'].dt.year\n",
    "Robbery_df_1418 = Robbery_df[Robbery_df.Occurance_Year > 2013]\n"
   ]
  },
  {
   "cell_type": "code",
   "execution_count": null,
   "metadata": {},
   "outputs": [],
   "source": [
    "Robbery_df_1418.info()"
   ]
  },
  {
   "cell_type": "code",
   "execution_count": null,
   "metadata": {},
   "outputs": [],
   "source": []
  },
  {
   "cell_type": "code",
   "execution_count": null,
   "metadata": {},
   "outputs": [],
   "source": [
    "# Division Responce to Offence during the year 2018\n",
    "# Note Division 51 has responded to most Robberies by count of 448 while D33 has responded the minimum by 122\n",
    "# ---------------------------------------------------------------------------------------------------------------------------\n",
    "Division_Responce_1418_df = pd.DataFrame(Robbery_df_1418.groupby(by='Division')['Offence_ID'].value_counts())\n",
    "Division_Responce_1418_df.head()"
   ]
  },
  {
   "cell_type": "code",
   "execution_count": null,
   "metadata": {},
   "outputs": [],
   "source": [
    "# Division Responce to Offence during the year 2018\n",
    "# Note Division 51 has responded to most Robberies by count of 448 while D33 has responded the minimum by 122\n",
    "# ---------------------------------------------------------------------------------------------------------------------------\n",
    "Offence_Responce_1418_df = pd.DataFrame(Robbery_df_1418.groupby(by='Offence_ID')['Reported_After_Occurrence_HOURS'].value_counts())\n",
    "Offence_Responce_1418_df"
   ]
  },
  {
   "cell_type": "code",
   "execution_count": null,
   "metadata": {},
   "outputs": [],
   "source": [
    "# Division Responce to Offence during the year 2014-2018\n",
    "# ---------------------------------------------------------------------------------------------------------------------------\n",
    "Offence_Responce_1418_df = pd.DataFrame(Robbery_df_1418.groupby(by='Reported_After_Occurrence_HOURS')['Offence_ID'].value_counts())\n",
    "Offence_Responce_1418_df"
   ]
  },
  {
   "cell_type": "code",
   "execution_count": null,
   "metadata": {},
   "outputs": [],
   "source": [
    "# Division Responce to Offence during the year 2014-2018\n",
    "# ---------------------------------------------------------------------------------------------------------------------------\n",
    "Offence_Responce_1418_df = Robbery_df.groupby('Reported_After_Occurrence_HOURS')\n",
    "Offence_Responce_1418_df"
   ]
  },
  {
   "cell_type": "code",
   "execution_count": null,
   "metadata": {},
   "outputs": [],
   "source": [
    "# Division Responce to Offence during the year 2014-2018\n",
    "# ---------------------------------------------------------------------------------------------------------------------------\n",
    "Offence_Responce_1418_df = pd.DataFrame(Robbery_df_1418.groupby(by='Offence_ID')['Reported_After_Occurrence_HOURS'].value_counts())\n",
    "Offence_Responce_1418_df"
   ]
  },
  {
   "cell_type": "code",
   "execution_count": null,
   "metadata": {},
   "outputs": [],
   "source": [
    "# Repoerted After occurrence Responce Hours mean group by Offence during the year 2014-2018\n",
    "# ------------------------------------------------------------------------------------------------------------------------\n",
    "Offence_Responce_1418_df = pd.DataFrame(Robbery_df_1418.groupby(by='Offence_ID')['Reported_After_Occurrence_HOURS'].mean())\n",
    "Offence_Responce_1418_df"
   ]
  },
  {
   "cell_type": "code",
   "execution_count": null,
   "metadata": {},
   "outputs": [],
   "source": [
    "# Repoerted After occurrence Responce Hours count group by Offence during the year 2014-2018\n",
    "# ------------------------------------------------------------------------------------------------------------------------\n",
    "Robbery_df_1418.groupby('Offence_ID')['Reported_After_Occurrence_HOURS'].count()"
   ]
  },
  {
   "cell_type": "code",
   "execution_count": null,
   "metadata": {},
   "outputs": [],
   "source": [
    "# Repoerted After occurrence Responce Hours count group by Offence during the year 2014-2018\n",
    "# ------------------------------------------------------------------------------------------------------------------------\n",
    "Robbery_df_1418.groupby('Reported_After_Occurrence_HOURS')['Offence_ID'].count()"
   ]
  },
  {
   "cell_type": "code",
   "execution_count": null,
   "metadata": {},
   "outputs": [],
   "source": [
    "# Repoerted After occurrence Responce Hours count group by Offence during the year 2014-2018\n",
    "# ------------------------------------------------------------------------------------------------------------------------\n",
    "Robbery_df_1418.groupby('Reported_After_Occurrence_HOURS')['Reported_After_Occurrence_HOURS'].count()"
   ]
  },
  {
   "cell_type": "code",
   "execution_count": null,
   "metadata": {},
   "outputs": [],
   "source": [
    "# Repoerted After occurrence Responce Hours mean group by Offence during the year 2014-2018\n",
    "# ------------------------------------------------------------------------------------------------------------------------\n",
    "Offence_Responce_1418_df = pd.DataFrame(Robbery_df_1418.groupby(by='Offence_ID')['Reported_After_Occurrence_HOURS'].count())\n",
    "Offence_Responce_1418_df"
   ]
  },
  {
   "cell_type": "code",
   "execution_count": null,
   "metadata": {},
   "outputs": [],
   "source": []
  },
  {
   "cell_type": "code",
   "execution_count": null,
   "metadata": {},
   "outputs": [],
   "source": []
  },
  {
   "cell_type": "code",
   "execution_count": null,
   "metadata": {},
   "outputs": [],
   "source": []
  }
 ],
 "metadata": {
  "kernelspec": {
   "display_name": "Python 3",
   "language": "python",
   "name": "python3"
  },
  "language_info": {
   "codemirror_mode": {
    "name": "ipython",
    "version": 3
   },
   "file_extension": ".py",
   "mimetype": "text/x-python",
   "name": "python",
   "nbconvert_exporter": "python",
   "pygments_lexer": "ipython3",
   "version": "3.7.1"
  }
 },
 "nbformat": 4,
 "nbformat_minor": 2
}
