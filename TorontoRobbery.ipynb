{
 "cells": [
  {
   "cell_type": "markdown",
   "metadata": {},
   "source": [
    "Before you turn this problem in, make sure everything runs as expected. First, **restart the kernel** (in the menu bar, select Kernel$\\rightarrow$Restart) and then **run all cells** (in the menu bar, select Cell$\\rightarrow$Run All).\n",
    "\n",
    "Make sure that in addition to the code, you provide written answers for all questions of the assignment. "
   ]
  },
  {
   "cell_type": "markdown",
   "metadata": {},
   "source": [
    "## Term Project: TorontoRobbery - Data Analysis \n"
   ]
  },
  {
   "cell_type": "markdown",
   "metadata": {},
   "source": [
    "For this term project, we will analyze the open dataset of toronto robbery provided by Toronto City(http://data.torontopolice.on.ca/datasets/281a5ad35c60458cb7de41c5ae99d5b5_0.) . \n",
    "\n",
    "We are going to read the data from the file into pandas DataFrame. Analyze, clean and transform the data to answer the following question:"
   ]
  },
  {
   "cell_type": "markdown",
   "metadata": {},
   "source": [
    "### Questions:"
   ]
  },
  {
   "cell_type": "markdown",
   "metadata": {},
   "source": [
    "**TYPE:**\n",
    "\n",
    "1. What type of robbery is most common? Least common?\n",
    "2. Does this change from 2014 to 2017?\n",
    "            -year by year comparison\n",
    "            -2018 - 2014 comparison\n",
    "            \n",
    "**TIME:**\n",
    "\n",
    "1. At what time is a robbery most likely to occur? Least likely?\n",
    "            -Time/Hour of the day\n",
    "            -Morning/Afternoon/Evening ← a new categorical variable\n",
    "            -Day of week\n",
    "            -Month of year\n",
    "            -Season ← a new categorical variable\n",
    "2. Does this change from 2014 to 2017?\n",
    "            -year by year comparison\n",
    "            -2017 - 2014 comparison\n",
    "\n",
    "**LOCATION:**\n",
    "\n",
    "1. In what areas do most robberies occur? Least robberies?\n",
    "            -Neighbourhood\n",
    "            -Location (commercial vs. outside)\n",
    "            -Robbery relative to Income\n",
    "            -Robbery relation to Education level\n",
    "2. % of neighbourhood residents whose mother tongue is not English or French\n",
    "\n",
    "3. % of neighbourhood residents who are unemployed\n",
    "\n",
    "4. % of neighbourhood residents who are movers\n",
    "\n",
    "**RESPONSE:**\n",
    "1. Which police divisions respond to the most robberies?\n",
    "2. How long do people wait to report a robbery (e.g. reported date vs. occuring date)?\n",
    "3. Which robbery types are reported the most quickly? Least quickly?\n",
    "\n",
    "\n",
    "**PREDICTION:** \n",
    "\n",
    " - Based on a given time and location, how likely are you to be robbed?\n",
    "     - Note: must define time (e.g. hour vs. day) and location"
   ]
  },
  {
   "cell_type": "code",
   "execution_count": 2,
   "metadata": {},
   "outputs": [],
   "source": [
    "import pandas as pd\n",
    "import numpy as np\n",
    "from matplotlib import pyplot as plt\n",
    "import seaborn as sns\n",
    "sns.set()"
   ]
  },
  {
   "cell_type": "code",
   "execution_count": 13,
   "metadata": {},
   "outputs": [],
   "source": [
    "# Load CSV file into Panda's DataFrame \n",
    "\n",
    "robbery_data = pd.read_csv('Data/robbery_data.csv',\n",
    "                          index_col = \"Record_ID\")\n",
    "\n",
    "neighbourhood_data = pd.read_csv('Data/neighbourhood.csv',\n",
    "                          index_col = \"Neighbourhood_ID\")\n",
    "\n",
    "offence_data = pd.read_csv('Data/offences.csv',\n",
    "                          index_col = \"Offence_ID\")\n",
    "\n",
    "neighbourhood_data = pd.read_csv('Data/neighbourhood.csv',\n",
    "                          index_col = \"Neighbourhood_ID\")\n",
    "\n",
    "premises_data =  pd.read_csv('Data/premise_types.csv',\n",
    "                          index_col = \"Premise_Type_ID\")\n",
    "\n",
    "daytime_data = pd.read_csv('Data/time_of_day.csv',\n",
    "                          index_col = \"Time_Of_Day_ID\")\n"
   ]
  },
  {
   "cell_type": "code",
   "execution_count": null,
   "metadata": {},
   "outputs": [],
   "source": [
    "## Start your work from here... "
   ]
  },
  {
   "cell_type": "code",
   "execution_count": null,
   "metadata": {},
   "outputs": [],
   "source": []
  }
 ],
 "metadata": {
  "kernelspec": {
   "display_name": "Python 3",
   "language": "python",
   "name": "python3"
  },
  "language_info": {
   "codemirror_mode": {
    "name": "ipython",
    "version": 3
   },
   "file_extension": ".py",
   "mimetype": "text/x-python",
   "name": "python",
   "nbconvert_exporter": "python",
   "pygments_lexer": "ipython3",
   "version": "3.7.1"
  }
 },
 "nbformat": 4,
 "nbformat_minor": 2
}
